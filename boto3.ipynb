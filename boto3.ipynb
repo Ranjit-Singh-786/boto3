{
 "cells": [
  {
   "cell_type": "code",
   "execution_count": 1,
   "metadata": {},
   "outputs": [],
   "source": [
    "import boto3\n",
    "import pandas as pd "
   ]
  },
  {
   "cell_type": "code",
   "execution_count": 2,
   "metadata": {},
   "outputs": [],
   "source": [
    "## connect your IAM user through the access key and secret key\n",
    "s3 = boto3.resource(\n",
    "    service_name ='s3',\n",
    "    region_name='ap-south-1',\n",
    "    aws_access_key_id ='copy past',  # create a IAM USER and get access & secret key\n",
    "    aws_secret_access_key='copy past'\n",
    ")"
   ]
  },
  {
   "cell_type": "code",
   "execution_count": null,
   "metadata": {},
   "outputs": [],
   "source": [
    "import os\n",
    "os.environ['AWS_DEFAULT_REGION'] = 'ap-south-1'\n",
    "os.environ['AWS_ACCESS_KEY_ID'] = 'copy past'\n",
    "os.environ['AWS_SECRET_ACCESS_KEY'] = 'copy past'\n"
   ]
  },
  {
   "cell_type": "markdown",
   "metadata": {},
   "source": [
    "### To print name of all buckets that are present on aws"
   ]
  },
  {
   "cell_type": "code",
   "execution_count": 3,
   "metadata": {},
   "outputs": [
    {
     "name": "stdout",
     "output_type": "stream",
     "text": [
      "projebucket\n"
     ]
    }
   ],
   "source": [
    "\n",
    "for bucket in s3.buckets.all():\n",
    "    print(bucket.name)"
   ]
  },
  {
   "cell_type": "markdown",
   "metadata": {},
   "source": [
    "### Upload different types of file into S3 Bucket"
   ]
  },
  {
   "cell_type": "code",
   "execution_count": 6,
   "metadata": {},
   "outputs": [],
   "source": [
    "# s3.Bucket('projebucket').upload_file(Filename='dummy.csv',Key='dummy.csv')\n",
    "# s3.Bucket('projebucket').upload_file('test_text.txt','textfile.txt')\n",
    "# s3.Bucket('projebucket').upload_file('lord2.jpg','lord2.jpg')\n",
    "# s3.Bucket('projebucket').upload_file('class_video_demo.mp4','class_video_demo.mp4')\n"
   ]
  },
  {
   "cell_type": "markdown",
   "metadata": {},
   "source": [
    "### To checkout all the objects presents in the S3 Bucket"
   ]
  },
  {
   "cell_type": "code",
   "execution_count": 10,
   "metadata": {},
   "outputs": [
    {
     "name": "stdout",
     "output_type": "stream",
     "text": [
      "s3.ObjectSummary(bucket_name='projebucket', key='class_video_demo.mp4')\n",
      "s3.ObjectSummary(bucket_name='projebucket', key='dummy.csv')\n",
      "s3.ObjectSummary(bucket_name='projebucket', key='lord2.jpg')\n",
      "s3.ObjectSummary(bucket_name='projebucket', key='test.csv')\n",
      "s3.ObjectSummary(bucket_name='projebucket', key='testing_text.csv')\n",
      "s3.ObjectSummary(bucket_name='projebucket', key='textfile.txt')\n"
     ]
    }
   ],
   "source": [
    "for item in s3.Bucket('projebucket').objects.all():\n",
    "    print(item)"
   ]
  },
  {
   "cell_type": "markdown",
   "metadata": {},
   "source": [
    "### Reading various kind of object file from S3"
   ]
  },
  {
   "cell_type": "code",
   "execution_count": 43,
   "metadata": {},
   "outputs": [],
   "source": [
    "## Reading csv file\n",
    "response = s3.Bucket('projebucket').Object('test.csv').get()\n",
    "\n",
    "\n",
    "# loaded_csv_file = pd.read_csv(response['Body'],index_col=0)\n",
    "# loaded_csv_file"
   ]
  },
  {
   "cell_type": "code",
   "execution_count": 44,
   "metadata": {},
   "outputs": [
    {
     "data": {
      "text/plain": [
       "'id,name,class\\r\\n1,ranjit,4\\r\\n2,jigar,5\\r\\n3,mohan,2\\r\\n4,sakshi,1\\r\\n5,rohit,3\\r\\n6,pandit,6\\r\\n'"
      ]
     },
     "execution_count": 44,
     "metadata": {},
     "output_type": "execute_result"
    }
   ],
   "source": [
    "csv_content = response['Body'].read().decode('utf-8')\n",
    "csv_content"
   ]
  },
  {
   "cell_type": "code",
   "execution_count": 54,
   "metadata": {},
   "outputs": [
    {
     "name": "stdout",
     "output_type": "stream",
     "text": [
      "    csv_writer = csv.writer(fileobj [, dialect='excel']\n",
      "                            [optional keyword args])\n",
      "    for row in sequence:\n",
      "        csv_writer.writerow(row)\n",
      "\n",
      "    [or]\n",
      "\n",
      "    csv_writer = csv.writer(fileobj [, dialect='excel']\n",
      "                            [optional keyword args])\n",
      "    csv_writer.writerows(rows)\n",
      "\n",
      "The \"fileobj\" argument can be any object that supports the file API.\n",
      "\n"
     ]
    }
   ],
   "source": [
    "# list(csv.__dir__())\n",
    "print(csv.writer.__doc__)"
   ]
  },
  {
   "cell_type": "code",
   "execution_count": 60,
   "metadata": {},
   "outputs": [
    {
     "ename": "AttributeError",
     "evalue": "'_csv.writer' object has no attribute 'write'",
     "output_type": "error",
     "traceback": [
      "\u001b[1;31m---------------------------------------------------------------------------\u001b[0m",
      "\u001b[1;31mAttributeError\u001b[0m                            Traceback (most recent call last)",
      "Cell \u001b[1;32mIn[60], line 4\u001b[0m\n\u001b[0;32m      2\u001b[0m csv_writer \u001b[38;5;241m=\u001b[39m csv\u001b[38;5;241m.\u001b[39mwriter(file)\n\u001b[0;32m      3\u001b[0m \u001b[38;5;66;03m# print(csv_writer.__doc__)\u001b[39;00m\n\u001b[1;32m----> 4\u001b[0m \u001b[43mcsv_writer\u001b[49m\u001b[38;5;241;43m.\u001b[39;49m\u001b[43mwrite\u001b[49m(csv_content)\n\u001b[0;32m      6\u001b[0m \u001b[38;5;66;03m# csv_writer.write\u001b[39;00m\n",
      "\u001b[1;31mAttributeError\u001b[0m: '_csv.writer' object has no attribute 'write'"
     ]
    }
   ],
   "source": [
    "with open('hee.csv','w') as file:\n",
    "    csv_writer = csv.writer(file)\n",
    "    # print(csv_writer.__doc__)\n",
    "    csv_writer.write(csv_content)\n",
    "\n",
    "    # csv_writer.write"
   ]
  },
  {
   "cell_type": "code",
   "execution_count": 32,
   "metadata": {},
   "outputs": [
    {
     "ename": "TypeError",
     "evalue": "write() argument must be str, not list",
     "output_type": "error",
     "traceback": [
      "\u001b[1;31m---------------------------------------------------------------------------\u001b[0m",
      "\u001b[1;31mTypeError\u001b[0m                                 Traceback (most recent call last)",
      "Cell \u001b[1;32mIn[32], line 3\u001b[0m\n\u001b[0;32m      1\u001b[0m \u001b[38;5;28;01mimport\u001b[39;00m \u001b[38;5;21;01mcsv\u001b[39;00m\n\u001b[0;32m      2\u001b[0m \u001b[38;5;28;01mwith\u001b[39;00m \u001b[38;5;28mopen\u001b[39m(\u001b[38;5;124m'\u001b[39m\u001b[38;5;124mexmp.csv\u001b[39m\u001b[38;5;124m'\u001b[39m,\u001b[38;5;124m'\u001b[39m\u001b[38;5;124mw\u001b[39m\u001b[38;5;124m'\u001b[39m) \u001b[38;5;28;01mas\u001b[39;00m file:\n\u001b[1;32m----> 3\u001b[0m     \u001b[43mfile\u001b[49m\u001b[38;5;241;43m.\u001b[39;49m\u001b[43mwrite\u001b[49m\u001b[43m(\u001b[49m\u001b[38;5;28;43mlist\u001b[39;49m\u001b[43m(\u001b[49m\u001b[43mresponse\u001b[49m\u001b[43m[\u001b[49m\u001b[38;5;124;43m'\u001b[39;49m\u001b[38;5;124;43mBody\u001b[39;49m\u001b[38;5;124;43m'\u001b[39;49m\u001b[43m]\u001b[49m\u001b[43m)\u001b[49m\u001b[43m)\u001b[49m\n",
      "\u001b[1;31mTypeError\u001b[0m: write() argument must be str, not list"
     ]
    }
   ],
   "source": [
    "import csv\n",
    "with open('exmp.csv','w') as file:\n",
    "    file.write(list(response['Body']))\n"
   ]
  },
  {
   "cell_type": "code",
   "execution_count": 93,
   "metadata": {},
   "outputs": [
    {
     "ename": "AttributeError",
     "evalue": "'function' object has no attribute 'decode'",
     "output_type": "error",
     "traceback": [
      "\u001b[1;31m---------------------------------------------------------------------------\u001b[0m",
      "\u001b[1;31mAttributeError\u001b[0m                            Traceback (most recent call last)",
      "Cell \u001b[1;32mIn[93], line 3\u001b[0m\n\u001b[0;32m      1\u001b[0m \u001b[38;5;66;03m# Get the object from the bucket\u001b[39;00m\n\u001b[0;32m      2\u001b[0m response \u001b[38;5;241m=\u001b[39m s3\u001b[38;5;241m.\u001b[39mBucket(\u001b[38;5;124m'\u001b[39m\u001b[38;5;124mprojebucket\u001b[39m\u001b[38;5;124m'\u001b[39m)\u001b[38;5;241m.\u001b[39mObject(\u001b[38;5;124m'\u001b[39m\u001b[38;5;124mtextfile.txt\u001b[39m\u001b[38;5;124m'\u001b[39m)\u001b[38;5;241m.\u001b[39mget\n\u001b[1;32m----> 3\u001b[0m \u001b[43mresponse\u001b[49m\u001b[38;5;241;43m.\u001b[39;49m\u001b[43mdecode\u001b[49m(\u001b[38;5;124m'\u001b[39m\u001b[38;5;124mascii\u001b[39m\u001b[38;5;124m'\u001b[39m)\n\u001b[0;32m      4\u001b[0m \u001b[38;5;66;03m# Read the body of the object as bytes\u001b[39;00m\n\u001b[0;32m      5\u001b[0m \u001b[38;5;66;03m# body_bytes = response['Body'].read()\u001b[39;00m\n\u001b[0;32m      6\u001b[0m \n\u001b[1;32m   (...)\u001b[0m\n\u001b[0;32m      9\u001b[0m \n\u001b[0;32m     10\u001b[0m \u001b[38;5;66;03m# Print or process the decoded text\u001b[39;00m\n",
      "\u001b[1;31mAttributeError\u001b[0m: 'function' object has no attribute 'decode'"
     ]
    }
   ],
   "source": [
    "\n",
    "\n",
    "# Get the object from the bucket\n",
    "response = s3.Bucket('projebucket').Object('textfile.txt').get\n",
    "response.decode('ascii')\n",
    "# Read the body of the object as bytes\n",
    "# body_bytes = response['Body'].read()\n",
    "\n",
    "# Decode the bytes using the appropriate encoding (e.g., UTF-8)\n",
    "# body_text = body_bytes.decode('utf-8')\n",
    "\n",
    "# Print or process the decoded text\n"
   ]
  }
 ],
 "metadata": {
  "kernelspec": {
   "display_name": "Python 3",
   "language": "python",
   "name": "python3"
  },
  "language_info": {
   "codemirror_mode": {
    "name": "ipython",
    "version": 3
   },
   "file_extension": ".py",
   "mimetype": "text/x-python",
   "name": "python",
   "nbconvert_exporter": "python",
   "pygments_lexer": "ipython3",
   "version": "3.11.5"
  }
 },
 "nbformat": 4,
 "nbformat_minor": 2
}
